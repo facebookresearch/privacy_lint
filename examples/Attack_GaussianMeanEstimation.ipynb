{
 "cells": [
  {
   "cell_type": "code",
   "execution_count": 1,
   "metadata": {},
   "outputs": [
    {
     "name": "stdout",
     "output_type": "stream",
     "text": [
      "/Users/asablayrolles/fbsource/fbcode/aml/primal/privacy_lint\n"
     ]
    }
   ],
   "source": [
    "%cd .."
   ]
  },
  {
   "cell_type": "code",
   "execution_count": 2,
   "metadata": {},
   "outputs": [],
   "source": [
    "%load_ext autoreload\n",
    "%autoreload 2\n",
    "\n",
    "from tqdm import tqdm\n",
    "import torch\n",
    "import torch.nn as nn\n",
    "import torch.optim as optim\n",
    "from torch.utils.data import TensorDataset, DataLoader\n",
    "\n",
    "\n",
    "import matplotlib.pyplot as plt\n",
    "\n",
    "from privacy_lint.attack_results import AttackResults\n",
    "from privacy_lint.attacks.loss import LossAttack\n",
    "from privacy_lint.attacks.grad_norm import GradNormAttack\n",
    "\n",
    "\n",
    "%matplotlib inline  \n",
    "%config InlineBackend.figure_format='retina'"
   ]
  },
  {
   "cell_type": "markdown",
   "metadata": {},
   "source": [
    "We create a model that learns the mean of a Gaussian. "
   ]
  },
  {
   "cell_type": "code",
   "execution_count": 3,
   "metadata": {},
   "outputs": [],
   "source": [
    "n_train = 1000\n",
    "n_test = 1000\n",
    "d = 10000\n",
    "\n",
    "model = nn.Parameter(torch.zeros(1, d))"
   ]
  },
  {
   "cell_type": "code",
   "execution_count": 4,
   "metadata": {},
   "outputs": [],
   "source": [
    "trainset = TensorDataset(torch.randn(n_train, d))\n",
    "testset = TensorDataset(torch.randn(n_test, d))"
   ]
  },
  {
   "cell_type": "code",
   "execution_count": 5,
   "metadata": {},
   "outputs": [],
   "source": [
    "train_loader = DataLoader(trainset, batch_size=n_train)\n",
    "test_loader = DataLoader(testset, batch_size=n_test)"
   ]
  },
  {
   "cell_type": "code",
   "execution_count": 6,
   "metadata": {},
   "outputs": [],
   "source": [
    "criterion = nn.MSELoss(reduction='sum')"
   ]
  },
  {
   "cell_type": "code",
   "execution_count": 7,
   "metadata": {},
   "outputs": [
    {
     "data": {
      "text/plain": [
       "(tensor([ 0.4722, -0.3281,  1.7036,  ...,  1.3719,  0.9210, -0.4021]),)"
      ]
     },
     "execution_count": 7,
     "metadata": {},
     "output_type": "execute_result"
    }
   ],
   "source": [
    "trainset[0]"
   ]
  },
  {
   "cell_type": "code",
   "execution_count": 8,
   "metadata": {},
   "outputs": [],
   "source": [
    "optimizer = optim.SGD([model], lr=1, momentum=0)\n",
    "for x in train_loader:\n",
    "    loss = criterion(model.broadcast_to(x[0].size()), x[0])\n",
    "    optimizer.zero_grad()\n",
    "    loss.backward()\n",
    "    optimizer.step()"
   ]
  },
  {
   "cell_type": "markdown",
   "metadata": {},
   "source": [
    "## Loss attack"
   ]
  },
  {
   "cell_type": "code",
   "execution_count": 9,
   "metadata": {},
   "outputs": [],
   "source": [
    "@torch.no_grad()\n",
    "def compute_loss_mse(model, dataloader):\n",
    "    losses = []\n",
    "    for x in tqdm(dataloader):\n",
    "        batch_losses = torch.sum(torch.pow(model - x[0], 2), dim=1)\n",
    "        losses += batch_losses.tolist()\n",
    "\n",
    "    return torch.Tensor(losses)"
   ]
  },
  {
   "cell_type": "code",
   "execution_count": 10,
   "metadata": {},
   "outputs": [
    {
     "name": "stderr",
     "output_type": "stream",
     "text": [
      "100%|██████████| 1/1 [00:00<00:00, 18.81it/s]\n",
      "100%|██████████| 1/1 [00:00<00:00, 38.08it/s]\n"
     ]
    }
   ],
   "source": [
    "attack = LossAttack(compute_loss=compute_loss_mse)\n",
    "loss_results = attack.launch(model, train_loader, test_loader)"
   ]
  },
  {
   "cell_type": "code",
   "execution_count": 11,
   "metadata": {},
   "outputs": [
    {
     "data": {
      "image/png": "[encoded data removed]",
      "text/plain": [
       "<Figure size 432x288 with 1 Axes>"
      ]
     },
     "metadata": {
      "image/png": {
       "height": 260,
       "width": 368
      },
      "needs_background": "light"
     },
     "output_type": "display_data"
    }
   ],
   "source": [
    "_ = plt.hist([loss_results.scores_train.numpy(), loss_results.scores_test.numpy()], bins=100)"
   ]
  },
  {
   "cell_type": "markdown",
   "metadata": {},
   "source": [
    "## Gradient norm attack"
   ]
  },
  {
   "cell_type": "code",
   "execution_count": 12,
   "metadata": {},
   "outputs": [],
   "source": [
    "def compute_grad_norm_mse(model, dataloader):\n",
    "    norms = []\n",
    "\n",
    "    for x in tqdm(dataloader):\n",
    "        for i in range(len(x[0])):\n",
    "            model.grad.zero_()\n",
    "            loss = torch.sum(torch.pow(model - x[0][i], 2), dim=1)\n",
    "            loss.backward()\n",
    "\n",
    "            #norms.append(model.grad.norm(p=2)**2)\n",
    "            norms.append(torch.sum(torch.pow(model.grad, 2)))\n",
    "\n",
    "    return torch.Tensor(norms)\n"
   ]
  },
  {
   "cell_type": "code",
   "execution_count": 13,
   "metadata": {},
   "outputs": [
    {
     "name": "stderr",
     "output_type": "stream",
     "text": [
      "100%|██████████| 1/1 [00:00<00:00,  9.55it/s]\n",
      "100%|██████████| 1/1 [00:00<00:00,  9.58it/s]\n"
     ]
    }
   ],
   "source": [
    "attack = GradNormAttack(compute_grad_norm=compute_grad_norm_mse)\n",
    "grad_results = attack.launch(model, train_loader, test_loader)"
   ]
  },
  {
   "cell_type": "code",
   "execution_count": 14,
   "metadata": {},
   "outputs": [
    {
     "data": {
      "image/png": "[encoded data removed]",
      "text/plain": [
       "<Figure size 432x288 with 1 Axes>"
      ]
     },
     "metadata": {
      "image/png": {
       "height": 260,
       "width": 368
      },
      "needs_background": "light"
     },
     "output_type": "display_data"
    }
   ],
   "source": [
    "_ = plt.hist([grad_results.scores_train.numpy() / 4, grad_results.scores_test.numpy() / 4], bins=100)"
   ]
  },
  {
   "cell_type": "code",
   "execution_count": 15,
   "metadata": {},
   "outputs": [
    {
     "name": "stdout",
     "output_type": "stream",
     "text": [
      "tensor([-39590772., -39587936., -39607172., -39595292., -39617360., -39606672.,\n",
      "        -39576384., -39591448., -39601176., -39592012.])\n",
      "tensor([-39590772., -39587936., -39607172., -39595292., -39617360., -39606672.,\n",
      "        -39576384., -39591448., -39601176., -39592012.])\n"
     ]
    }
   ],
   "source": [
    "print(grad_results.scores_train[:10] / 4)\n",
    "print(loss_results.scores_train[:10])"
   ]
  },
  {
   "cell_type": "markdown",
   "metadata": {},
   "source": [
    "## Group attacks"
   ]
  },
  {
   "cell_type": "markdown",
   "metadata": {},
   "source": [
    "In a group attack, we know that all samples from the group come from either the train or the test set. This yields better results"
   ]
  },
  {
   "cell_type": "code",
   "execution_count": 16,
   "metadata": {},
   "outputs": [],
   "source": [
    "results = grad_results.group(group_size=10, num_groups=1000)"
   ]
  },
  {
   "cell_type": "code",
   "execution_count": 17,
   "metadata": {},
   "outputs": [
    {
     "data": {
      "image/png": "[encoded data removed]",
      "text/plain": [
       "<Figure size 432x288 with 1 Axes>"
      ]
     },
     "metadata": {
      "image/png": {
       "height": 260,
       "width": 383
      },
      "needs_background": "light"
     },
     "output_type": "display_data"
    }
   ],
   "source": [
    "_ = plt.hist([results.scores_train.numpy() / 4, results.scores_test.numpy() / 4], bins=100)"
   ]
  }
 ],
 "metadata": {
  "kernelspec": {
   "display_name": "Python 3",
   "language": "python",
   "name": "python3"
  },
  "language_info": {
   "codemirror_mode": {
    "name": "ipython",
    "version": 3
   },
   "file_extension": ".py",
   "mimetype": "text/x-python",
   "name": "python",
   "nbconvert_exporter": "python",
   "pygments_lexer": "ipython3",
   "version": "3.8.3"
  }
 },
 "nbformat": 4,
 "nbformat_minor": 4
}

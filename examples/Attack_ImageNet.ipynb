{
 "cells": [
  {
   "cell_type": "code",
   "execution_count": 51,
   "metadata": {},
   "outputs": [],
   "source": [
    "import os\n",
    "import tqdm\n",
    "\n",
    "import numpy as np\n",
    "\n",
    "import torch\n",
    "import torch.nn as nn\n",
    "\n",
    "from torch.utils.data import SubsetRandomSampler\n",
    "\n",
    "import torchvision.models as models\n",
    "import torchvision.transforms as transforms\n",
    "import torchvision.datasets as datasets\n",
    "\n",
    "import matplotlib.pyplot as plt\n",
    "\n",
    "from privacy_lint.attacks.loss import LossAttack, compute_loss_cross_entropy\n",
    "\n",
    "%matplotlib inline  \n",
    "%config InlineBackend.figure_format='retina'"
   ]
  },
  {
   "cell_type": "markdown",
   "metadata": {},
   "source": [
    "Gather train and test scores\n",
    "===="
   ]
  },
  {
   "cell_type": "code",
   "execution_count": 29,
   "metadata": {},
   "outputs": [],
   "source": [
    "def get_dataloader(path, batch_size=256, num_workers=8, train=True):\n",
    "    \n",
    "    num_samples = 50000 if train else 10000\n",
    "    normalize = transforms.Normalize(mean=[0.485, 0.456, 0.406],\n",
    "                                     std=[0.229, 0.224, 0.225])\n",
    "    \n",
    "    dataset = datasets.ImageFolder(\n",
    "        path, transforms.Compose([\n",
    "        transforms.Resize(256),\n",
    "        transforms.CenterCrop(224),\n",
    "        transforms.ToTensor(),\n",
    "        normalize,\n",
    "    ]))\n",
    "    \n",
    "    dataloader = torch.utils.data.DataLoader(\n",
    "        dataset,\n",
    "        batch_size=batch_size, \n",
    "        sampler=SubsetRandomSampler(torch.randint(0, len(dataset), (num_samples,))),\n",
    "        num_workers=num_workers, \n",
    "        pin_memory=True\n",
    "    )\n",
    "    \n",
    "    return dataloader"
   ]
  },
  {
   "cell_type": "code",
   "execution_count": 32,
   "metadata": {},
   "outputs": [],
   "source": [
    "imagenet_path = \"/datasets01/imagenet_full_size/061417/\"\n",
    "batch_size = 1024\n",
    "\n",
    "model = models.resnet18(pretrained=True).eval()\n",
    "\n",
    "\n",
    "train_path = os.path.join(imagenet_path, 'train')\n",
    "test_path = os.path.join(imagenet_path, 'val')\n",
    "train_loader = get_dataloader(train_path, batch_size=batch_size, train=True)\n",
    "test_loader = get_dataloader(test_path, batch_size=batch_size, train=False)"
   ]
  },
  {
   "cell_type": "markdown",
   "metadata": {},
   "source": [
    "Attack unbalanced\n",
    "===="
   ]
  },
  {
   "cell_type": "markdown",
   "metadata": {},
   "source": [
    "When not balancing the dataset, it's way easier to attack!"
   ]
  },
  {
   "cell_type": "code",
   "execution_count": 34,
   "metadata": {},
   "outputs": [
    {
     "name": "stderr",
     "output_type": "stream",
     "text": [
      "100%|██████████| 49/49 [04:26<00:00,  5.45s/it]\n",
      "100%|██████████| 10/10 [00:50<00:00,  5.02s/it]\n"
     ]
    }
   ],
   "source": [
    "attack = LossAttack(compute_loss=compute_loss_cross_entropy)\n",
    "loss_results_unbalanced = attack.launch(model, train_loader, test_loader)"
   ]
  },
  {
   "cell_type": "code",
   "execution_count": 35,
   "metadata": {},
   "outputs": [
    {
     "name": "stdout",
     "output_type": "stream",
     "text": [
      "Max accuracy threshold: 13.91, max accuracy: 83.34%\n"
     ]
    }
   ],
   "source": [
    "max_accuracy_threshold, max_accuracy = loss_results_unbalanced.get_max_accuracy_threshold()\n",
    "print(f\"Max accuracy threshold: {-max_accuracy_threshold:.2f}, max accuracy: {max_accuracy*100:.2f}%\")"
   ]
  },
  {
   "cell_type": "markdown",
   "metadata": {},
   "source": [
    "Attack balanced\n",
    "==="
   ]
  },
  {
   "cell_type": "markdown",
   "metadata": {},
   "source": [
    "The accuracy when balancing drops to 55%"
   ]
  },
  {
   "cell_type": "code",
   "execution_count": 36,
   "metadata": {},
   "outputs": [
    {
     "name": "stdout",
     "output_type": "stream",
     "text": [
      "Max accuracy threshold: 0.71, max accuracy: 55.21%\n"
     ]
    }
   ],
   "source": [
    "loss_results_balanced = loss_results_unbalanced.balance()\n",
    "\n",
    "max_accuracy_threshold, max_accuracy = loss_results_balanced.get_max_accuracy_threshold()\n",
    "print(f\"Max accuracy threshold: {-max_accuracy_threshold:.2f}, max accuracy: {max_accuracy*100:.2f}%\")"
   ]
  },
  {
   "cell_type": "markdown",
   "metadata": {},
   "source": [
    "Loss distributions\n",
    "===="
   ]
  },
  {
   "cell_type": "code",
   "execution_count": 55,
   "metadata": {},
   "outputs": [
    {
     "data": {
      "image/png": "[encoded data removed]",
      "text/plain": [
       "<Figure size 432x288 with 1 Axes>"
      ]
     },
     "metadata": {
      "image/png": {
       "height": 264,
       "width": 395
      },
      "needs_background": "light"
     },
     "output_type": "display_data"
    }
   ],
   "source": [
    "plt.hist(-loss_results_balanced.scores_test.numpy(), label=\"Test\", bins=np.logspace(-7, 1, 60), alpha=0.7)\n",
    "plt.hist(-loss_results_balanced.scores_train.numpy(), label=\"Train\", bins=np.logspace(-7, 1, 60), alpha=0.7)\n",
    "plt.xscale(\"log\")\n",
    "plt.xlabel(\"Loss\")\n",
    "plt.ylabel(\"Count\")\n",
    "plt.legend()\n",
    "plt.show()"
   ]
  }
 ],
 "metadata": {
  "kernelspec": {
   "display_name": "privacy",
   "language": "python",
   "name": "privacy"
  },
  "language_info": {
   "codemirror_mode": {
    "name": "ipython",
    "version": 3
   },
   "file_extension": ".py",
   "mimetype": "text/x-python",
   "name": "python",
   "nbconvert_exporter": "python",
   "pygments_lexer": "ipython3",
   "version": "3.8.10"
  }
 },
 "nbformat": 4,
 "nbformat_minor": 2
}
